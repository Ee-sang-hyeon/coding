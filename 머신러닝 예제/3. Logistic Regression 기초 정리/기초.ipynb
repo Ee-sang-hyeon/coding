{
 "cells": [
  {
   "cell_type": "markdown",
   "id": "c5a7ad9e",
   "metadata": {},
   "source": [
    "# 기초 개념\n",
    "로지스틱 회귀(Logistic Regression)는 회귀를 사용하여 데이터가 어떤 범주에 속할 확률을 0에서 1 사이의 값으로 예측하고 그 확률에 따라 가능성이 더 높은 범주에 속하는 것으로 분류해주는 지도 학습 알고리즘이다. 주의해야할 점은 로지스틱 회귀에 회귀가 들어간다고 회귀문제가 아니다.  \n",
    "단지 회귀(Regression) 원리를 사용하여 분류(classification)을 하기 때문에 이름에 회귀가 포함된 것이다. 즉, 로지스틱 회귀는 분류라고 할 수 있다."
   ]
  },
  {
   "cell_type": "markdown",
   "id": "8c0098db",
   "metadata": {},
   "source": [
    "먼저 로지스틱 회귀와 선형회귀는 다르다.  \n",
    "선형회귀는 공부시간과 성적의 관계를 직선으로 나타내서 예측하는 것이다. 로지스틱 회귀는 데이터가 어떤 번주에 속할 확률을 0과 1 사이의 값으로 예측하는 이진분류가 기본이고, OvR과 같은 방식을 사용하면 멀티 클래스 분류도 가능하다."
   ]
  },
  {
   "cell_type": "markdown",
   "id": "b012ef97",
   "metadata": {},
   "source": [
    "로지스틱 회귀에서는 확률을 0에서 1 사이로 커브 모양으로 만들어 주는 것이 바로 Sigmoid 함수다. 시그모이 함수의 값은 0~1 사이의 값이므로, 확률로 예측이 된다. 그리고 임계값을 적용하여, 중간 값인 0.5를 기준으로 0.5를 넘으면, 1이 되고, 넘지 못하면 0이 되는 식으로 이진분류로도 자주 활용된다. 사용 사례로는, 기온, 기압 정보를 활용하여 비의 유무예측, 병원에서는 증상들을 토대로 어떤 질병인지를 예측가능하다.  \n",
    "시그모이드 함수를 구현해보면 아래와 같다."
   ]
  },
  {
   "cell_type": "code",
   "execution_count": null,
   "id": "48842ae9",
   "metadata": {},
   "outputs": [],
   "source": [
    "import numpy as np\n",
    "def sigmoid(x):\n",
    "    return 1/(1+np.exp(-x))"
   ]
  },
  {
   "cell_type": "markdown",
   "id": "f28b30bc",
   "metadata": {},
   "source": [
    "- 시그모이드 함수 in Logistic Regreesion\n",
    "$$ f(x) = \\frac{1}{1+e^x} $$"
   ]
  },
  {
   "cell_type": "markdown",
   "id": "d793d680",
   "metadata": {},
   "source": [
    "시그모이드 함수는 Logistic Regression 뿐만아니라  \n",
    "인공뉴런의 활성화 함수  \n",
    "정규 분포에서도 많이 쓰인다."
   ]
  },
  {
   "cell_type": "markdown",
   "id": "2ba49b08",
   "metadata": {},
   "source": [
    "## 사이킷런 구현\n",
    "간단하게 손글씨 데이터를 사이킷런을 활용하여 로지스틱 회귀를 구현해 보겠다.  \n",
    "아래와 같이 간단하게 구현가능하다."
   ]
  },
  {
   "cell_type": "code",
   "execution_count": null,
   "id": "01ea8606",
   "metadata": {},
   "outputs": [],
   "source": [
    "from sklearn.datasets import load_digits, load_wine, load_breast_cancer\n",
    "from sklearn.model_selection import train_test_split\n",
    "from sklearn.metrics import classification_report\n",
    "\n",
    "# 데이터 불러오기\n",
    "digits = load_digits() # 손글씨 이미지 데이터\n"
   ]
  }
 ],
 "metadata": {
  "kernelspec": {
   "display_name": "Python 3",
   "language": "python",
   "name": "python3"
  },
  "language_info": {
   "codemirror_mode": {
    "name": "ipython",
    "version": 3
   },
   "file_extension": ".py",
   "mimetype": "text/x-python",
   "name": "python",
   "nbconvert_exporter": "python",
   "pygments_lexer": "ipython3",
   "version": "3.8.8"
  }
 },
 "nbformat": 4,
 "nbformat_minor": 5
}
