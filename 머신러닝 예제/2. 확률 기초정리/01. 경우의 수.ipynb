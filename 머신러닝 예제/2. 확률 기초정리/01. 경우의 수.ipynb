{
 "cells": [
  {
   "cell_type": "markdown",
   "id": "3ce92021",
   "metadata": {},
   "source": [
    "# 1. 경우의 수\n",
    "어떤 사건에 대하여 일어날 수 있는 모든 경우에 대한 가짓수를 의미한다.  \n",
    "$$ P(확률) = \\frac{사건 A가 일어나는 경우의 수}{모든 경우의 수} $$"
   ]
  },
  {
   "cell_type": "markdown",
   "id": "e03da61a",
   "metadata": {},
   "source": [
    "## 주사위를 던졌을 때 짝수가 나올 확률 구하기"
   ]
  },
  {
   "cell_type": "code",
   "execution_count": 1,
   "id": "9b74fcc3",
   "metadata": {},
   "outputs": [
    {
     "data": {
      "text/plain": [
       "0.5"
      ]
     },
     "execution_count": 1,
     "metadata": {},
     "output_type": "execute_result"
    }
   ],
   "source": [
    "def probability(space, event):\n",
    "    return len(event)/len(space)\n",
    "\n",
    "space = [1,2,3,4,5,6]\n",
    "event = [2,4,6]\n",
    "\n",
    "\n",
    "result = probability(space, event)\n",
    "\n",
    "result"
   ]
  },
  {
   "cell_type": "markdown",
   "id": "362430a7",
   "metadata": {},
   "source": [
    "## 1~20까지 써있는 주사위를 던졌을 때 3의 배수가 나올 확률"
   ]
  },
  {
   "cell_type": "code",
   "execution_count": 2,
   "id": "534b10cf",
   "metadata": {},
   "outputs": [
    {
     "name": "stdout",
     "output_type": "stream",
     "text": [
      "[3, 6, 9, 12, 15, 18] 6\n",
      "0.3\n"
     ]
    }
   ],
   "source": [
    "def prob(space, event):\n",
    "    return event/space\n",
    "\n",
    "def mult(inputNum):\n",
    "    su = []\n",
    "    count = 0\n",
    "    for number in range(1,inputNum):\n",
    "        if number % 3 == 0:\n",
    "            su.append(number)\n",
    "            count += 1\n",
    "    return su, count\n",
    "\n",
    "space = 20\n",
    "su, event = mult(space)\n",
    "print(su, event)\n",
    "\n",
    "result = prob(space, event)\n",
    "print(result)"
   ]
  },
  {
   "cell_type": "markdown",
   "id": "292892e2",
   "metadata": {},
   "source": [
    "## 평균값과 최빈값"
   ]
  },
  {
   "cell_type": "code",
   "execution_count": 8,
   "id": "e328908a",
   "metadata": {},
   "outputs": [
    {
     "name": "stdout",
     "output_type": "stream",
     "text": [
      "14\n",
      "3.5\n",
      "2 가 3 개로 최빈값이다.\n"
     ]
    }
   ],
   "source": [
    "def userSum(data): # list 요소 합\n",
    "    addData = 0\n",
    "    for idxData in data:\n",
    "        addData += idxData\n",
    "    return addData\n",
    "\n",
    "def average(data): # list 평균\n",
    "    a = userSum(data)\n",
    "    a = a/len(data)\n",
    "    return a\n",
    "\n",
    "data = [2,3,4,5]\n",
    "\n",
    "print(userSum(data))\n",
    "print(average(data))\n",
    "\n",
    "#최빈값이 없는데...?\n",
    "\n",
    "#최빈값\n",
    "da = [2,2,2,3,3,4]\n",
    "def bin(data):\n",
    "    li = []\n",
    "    count = [0 for i in range(len(data))]\n",
    "    for i in data:\n",
    "        if i in li:\n",
    "            count[i] += 1\n",
    "        elif i not in li:\n",
    "            li.append(i)\n",
    "            count[i] += 1\n",
    "    return count\n",
    "\n",
    "re = max(bin(da))\n",
    "th = bin(da).index(re)\n",
    "\n",
    "print(th,'가',re,'개로 최빈값이다.')\n",
    "\n",
    "        \n",
    "            "
   ]
  },
  {
   "cell_type": "markdown",
   "id": "96ae63e8",
   "metadata": {},
   "source": [
    "## 편차와 분산\n",
    "$$ 편차 = data값 - 평균 $$\n",
    "$$ 분산 = \\sum \\frac{(data값 - 평균)^2}{n}  $$\n",
    "$$ 표준편차 = \\sum \\sqrt \\frac{(data값 - 평균)^2}{n}  $$"
   ]
  },
  {
   "cell_type": "code",
   "execution_count": 9,
   "id": "0dacdf22",
   "metadata": {},
   "outputs": [],
   "source": [
    "# 편차\n",
    "def Deviation(num):\n",
    "    average = average(num) #위에서 만들어 놓은 함수\n",
    "    diff = []\n",
    "    for i in num:\n",
    "        diff.append(i - average)\n",
    "    return diff\n",
    "\n",
    "# 분산\n",
    "def Variance(num):\n",
    "    devia = Deviation(num)\n",
    "    squared_deia = []\n",
    "    for i in devia:\n",
    "        squeared_devia.append(i**2)\n",
    "        sum_squeared_devia = sum(squared_devia)\n",
    "        variance = sum_squared_devia/len(num)\n",
    "    return variance"
   ]
  },
  {
   "cell_type": "code",
   "execution_count": null,
   "id": "4c5927bd",
   "metadata": {},
   "outputs": [],
   "source": []
  }
 ],
 "metadata": {
  "kernelspec": {
   "display_name": "Python 3",
   "language": "python",
   "name": "python3"
  },
  "language_info": {
   "codemirror_mode": {
    "name": "ipython",
    "version": 3
   },
   "file_extension": ".py",
   "mimetype": "text/x-python",
   "name": "python",
   "nbconvert_exporter": "python",
   "pygments_lexer": "ipython3",
   "version": "3.8.8"
  }
 },
 "nbformat": 4,
 "nbformat_minor": 5
}
