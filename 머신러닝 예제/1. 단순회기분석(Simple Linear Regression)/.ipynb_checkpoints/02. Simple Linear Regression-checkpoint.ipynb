{
 "cells": [
  {
   "cell_type": "markdown",
   "id": "ff04312a",
   "metadata": {},
   "source": [
    "# 데이터셋 구분\n",
    "기본적으로 입력값(X)과 결과값(y)를 정해준다. 그 후에 사이킷런을 이용해서 train값과 test값으로 나눠준다."
   ]
  },
  {
   "cell_type": "code",
   "execution_count": 2,
   "id": "29a21a61",
   "metadata": {},
   "outputs": [
    {
     "name": "stdout",
     "output_type": "stream",
     "text": [
      "    mpg  cylinders  displacement horsepower  weight  acceleration  model year  \\\n",
      "0  18.0          8         307.0      130.0  3504.0          12.0          70   \n",
      "1  15.0          8         350.0      165.0  3693.0          11.5          70   \n",
      "2  18.0          8         318.0      150.0  3436.0          11.0          70   \n",
      "3  16.0          8         304.0      150.0  3433.0          12.0          70   \n",
      "4  17.0          8         302.0      140.0  3449.0          10.5          70   \n",
      "\n",
      "   origin                       name  \n",
      "0       1  chevrolet chevelle malibu  \n",
      "1       1          buick skylark 320  \n",
      "2       1         plymouth satellite  \n",
      "3       1              amc rebel sst  \n",
      "4       1                ford torino  \n",
      "<class 'pandas.core.frame.DataFrame'>\n",
      "RangeIndex: 398 entries, 0 to 397\n",
      "Data columns (total 9 columns):\n",
      " #   Column        Non-Null Count  Dtype  \n",
      "---  ------        --------------  -----  \n",
      " 0   mpg           398 non-null    float64\n",
      " 1   cylinders     398 non-null    int64  \n",
      " 2   displacement  398 non-null    float64\n",
      " 3   horsepower    398 non-null    object \n",
      " 4   weight        398 non-null    float64\n",
      " 5   acceleration  398 non-null    float64\n",
      " 6   model year    398 non-null    int64  \n",
      " 7   origin        398 non-null    int64  \n",
      " 8   name          398 non-null    object \n",
      "dtypes: float64(4), int64(3), object(2)\n",
      "memory usage: 28.1+ KB\n",
      "None\n"
     ]
    }
   ],
   "source": [
    "import pandas as pd\n",
    "import numpy as np\n",
    "import matplotlib.pyplot as plt\n",
    "import seaborn as sns\n",
    "\n",
    "df = pd.read_csv('auto-mpg.csv',header=None)\n",
    "\n",
    "df.columns = ['mpg','cylinders','displacement','horsepower','weight','acceleration','model year','origin','name']\n",
    "\n",
    "# 데이터 확인 코드\n",
    "print(df.head())\n",
    "print(df.info())\n",
    "\n",
    "df['horsepower'].replace('?',np.nan, inplace=True) # ?를 nan으로 변경\n",
    "df.dropna(subset=['horsepower'], axis=0, inplace=True) # 누락데이터 행을 삭제\n",
    "df['horsepower']=df['horsepower'].astype('float') # 문자열을 실수형으로 변환\n",
    "\n",
    "ndf = df[['mpg','cylinders','horsepower','weight']]"
   ]
  },
  {
   "cell_type": "code",
   "execution_count": 4,
   "id": "08f1a847",
   "metadata": {},
   "outputs": [
    {
     "name": "stdout",
     "output_type": "stream",
     "text": [
      "<class 'pandas.core.frame.DataFrame'>\n",
      "<class 'pandas.core.series.Series'>\n"
     ]
    }
   ],
   "source": [
    "X = ndf[['weight']] # 입력값 들\n",
    "y = ndf['mpg'] # 결과값\n",
    "print(type(X))\n",
    "print(type(y))"
   ]
  },
  {
   "cell_type": "markdown",
   "id": "b20109a8",
   "metadata": {},
   "source": [
    "### train_test_split 함수를 활용하면 자동으로 train과 test를 나눠준다. 지도학습은 train_test_splilt를 사용한다."
   ]
  },
  {
   "cell_type": "code",
   "execution_count": 5,
   "id": "abdb2795",
   "metadata": {},
   "outputs": [
    {
     "name": "stdout",
     "output_type": "stream",
     "text": [
      "train data 개수:  274\n",
      "test data 개수:  118\n"
     ]
    }
   ],
   "source": [
    "# train data와 test data로 구분 (7:3 비율)\n",
    "from sklearn.model_selection import train_test_split # train과 test를 알아서 나줘 줌\n",
    "########\n",
    "X_train, X_test, y_train, y_test = train_test_split(X,y,test_size=0.3,random_state=10) # 독립변수, 종속변수, 검증 30%, 랜덤 추출 값\n",
    "####### -> 검증 30% -> 트레인 사이트는 70으로 된다. (?) 설명필요\n",
    "print('train data 개수: ', len(X_train))\n",
    "print('test data 개수: ', len(X_test))"
   ]
  },
  {
   "cell_type": "markdown",
   "id": "a83cb2b0",
   "metadata": {},
   "source": [
    "### 사이킷런을 활용하여 회귀분석 모듈( LinearRegression)을 가져와 사용할 것이다."
   ]
  },
  {
   "cell_type": "code",
   "execution_count": 7,
   "id": "60daa9c5",
   "metadata": {},
   "outputs": [
    {
     "name": "stdout",
     "output_type": "stream",
     "text": [
      "모형의 성능은:  0.6822458558299325\n"
     ]
    }
   ],
   "source": [
    "# sklearn 라이브러리에서 선형회귀분석 모듈 가져오기\n",
    "from sklearn.linear_model import LinearRegression\n",
    "\n",
    "# 단순회귀분석 모형 객체 생성\n",
    "lr = LinearRegression()\n",
    "\n",
    "# train data를 가지고 모형 학습 / 훈련은 fit 함수로 진행한다. / fit 함수로 모델구축할 때는 test가 아니라 train data로 한다.\n",
    "lr.fit(X_train, y_train)\n",
    "\n",
    "#학습을 마친 모형에 test data를 적용하여 결정계수 (R-제곱) 계산 / 결정계수가 높을수록 성능이 높다.\n",
    "r_square = lr.score(X_test, y_test)\n",
    "print('모형의 성능은: ',r_square)"
   ]
  },
  {
   "cell_type": "code",
   "execution_count": 8,
   "id": "d0c42271",
   "metadata": {},
   "outputs": [
    {
     "name": "stdout",
     "output_type": "stream",
     "text": [
      "기울기 a:  [-0.00775343]\n"
     ]
    }
   ],
   "source": [
    "# 회귀 식의 기울기\n",
    "print('기울기 a: ', lr.coef_) # weight를 보자 /// 이건 W?"
   ]
  },
  {
   "cell_type": "code",
   "execution_count": 9,
   "id": "66f87650",
   "metadata": {},
   "outputs": [
    {
     "name": "stdout",
     "output_type": "stream",
     "text": [
      "y절편 b 46.710366257280086\n"
     ]
    }
   ],
   "source": [
    "# 회귀 식의 y절편\n",
    "print('y절편 b', lr.intercept_) # 절편을 보자 /// 아마 이게 bias인듯?"
   ]
  },
  {
   "cell_type": "code",
   "execution_count": 15,
   "id": "29ebd1c6",
   "metadata": {},
   "outputs": [
    {
     "name": "stderr",
     "output_type": "stream",
     "text": [
      "/opt/anaconda3/lib/python3.8/site-packages/seaborn/distributions.py:2557: FutureWarning: `distplot` is a deprecated function and will be removed in a future version. Please adapt your code to use either `displot` (a figure-level function with similar flexibility) or `kdeplot` (an axes-level function for kernel density plots).\n",
      "  warnings.warn(msg, FutureWarning)\n",
      "/opt/anaconda3/lib/python3.8/site-packages/seaborn/distributions.py:2557: FutureWarning: `distplot` is a deprecated function and will be removed in a future version. Please adapt your code to use either `displot` (a figure-level function with similar flexibility) or `kdeplot` (an axes-level function for kernel density plots).\n",
      "  warnings.warn(msg, FutureWarning)\n"
     ]
    },
    {
     "data": {
      "image/png": "[encoded data removed]",
      "text/plain": [
       "<Figure size 720x360 with 1 Axes>"
      ]
     },
     "metadata": {
      "needs_background": "light"
     },
     "output_type": "display_data"
    }
   ],
   "source": [
    "# 모형에 전체 X 데이터를 입력하여 예측한 값 y_hat을 실제 값 y와 비교\n",
    "y_hat = lr.predict(X) # 예측 함수. 예측해서 y_hat을 구하자\n",
    "\n",
    "plt.figure(figsize=(10,5)) # 그래프 2개\n",
    "ax1 = sns.distplot(y, hist=False, label=\"y\") # 실제 값\n",
    "ax2 = sns.distplot(y_hat, hist=False, label=\"y_hat\", ax=ax1) # ax1 에 같이 그림\n",
    "plt.legend()\n",
    "plt.show()"
   ]
  },
  {
   "cell_type": "markdown",
   "id": "f85d62f5",
   "metadata": {},
   "source": [
    "#### 위 예제에서는 비선형을 선형 방법으로 풀어서 결과가 나오지 않았다."
   ]
  },
  {
   "cell_type": "code",
   "execution_count": null,
   "id": "991b5e01",
   "metadata": {},
   "outputs": [],
   "source": []
  }
 ],
 "metadata": {
  "kernelspec": {
   "display_name": "Python 3",
   "language": "python",
   "name": "python3"
  },
  "language_info": {
   "codemirror_mode": {
    "name": "ipython",
    "version": 3
   },
   "file_extension": ".py",
   "mimetype": "text/x-python",
   "name": "python",
   "nbconvert_exporter": "python",
   "pygments_lexer": "ipython3",
   "version": "3.8.8"
  }
 },
 "nbformat": 4,
 "nbformat_minor": 5
}
