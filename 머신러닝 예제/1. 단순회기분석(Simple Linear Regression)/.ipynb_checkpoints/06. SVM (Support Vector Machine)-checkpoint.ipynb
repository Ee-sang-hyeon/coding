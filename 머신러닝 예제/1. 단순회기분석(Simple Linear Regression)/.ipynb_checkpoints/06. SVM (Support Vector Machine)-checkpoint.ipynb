{
 "cells": [
  {
   "cell_type": "markdown",
   "id": "5a44f73f",
   "metadata": {},
   "source": [
    "# 6. SVM (Support Vector Machine)\n",
    "분류 모델 중 하나로 벡터(Vector) 개념을 가져와서 사용한다. 데이터프레임의 각 열이 고유의 축을 가지는 벡터공간을 만들고, 각각의 개별의 모든 속성이 축의 좌료로 표시되어 벡터 공간에서 위치를 나타낸다. 속성(열)이 2개가 존재하면 2차원, 4개가 존재하면 4차원 평면 공간에 데이터 셋이 좌표로 표시된다.  "
   ]
  },
  {
   "cell_type": "markdown",
   "id": "ef1a3bfb",
   "metadata": {},
   "source": [
    "같은 분류 값인 데이터끼리 같은 공간에 위치시켜 벡터 공간을 여러 조각으로 나누고, 새로운 데이터에 대하여 어느 공간에 위치하는지 분류할 수 있게 한다.  \n",
    "> 그래서 분류. classification"
   ]
  },
  {
   "cell_type": "markdown",
   "id": "b0acb693",
   "metadata": {},
   "source": [
    "앞에서 반복했던 코드들은 빠르게 넘어가자"
   ]
  },
  {
   "cell_type": "code",
   "execution_count": 1,
   "id": "5d1083f5",
   "metadata": {},
   "outputs": [
    {
     "name": "stderr",
     "output_type": "stream",
     "text": [
      "/opt/anaconda3/lib/python3.8/site-packages/pandas/core/series.py:4463: SettingWithCopyWarning: \n",
      "A value is trying to be set on a copy of a slice from a DataFrame\n",
      "\n",
      "See the caveats in the documentation: https://pandas.pydata.org/pandas-docs/stable/user_guide/indexing.html#returning-a-view-versus-a-copy\n",
      "  return super().fillna(\n"
     ]
    }
   ],
   "source": [
    "import pandas as pd\n",
    "import seaborn as sns\n",
    "\n",
    "df = sns.load_dataset('titanic')\n",
    "\n",
    "#NaN값이 많은 deck 열을 삭제, embarked와 내용이 겹치는 embark_town 열을 삭제\n",
    "rdf = df.drop(['deck','embark_town'], axis=1) # axis=1 은 열에 대한 작용이라는 뜻\n",
    "\n",
    "# age 열에 나이 데이터가 없는 모든 행을 삭제 - age 열(891개 중 177개의 NaN 값)\n",
    "rdf = df.dropna(subset=['age'], how='any', axis=0) # any: 여기선 row에 NaN 값이 하나라도 있으면 drop\n",
    "\n",
    "# embarked 열의 NaN값을 승선도시 중에서 가장 많이 출현한 값으로 치환하기\n",
    "most_freq = rdf['embarked'].value_counts(dropna=True).idxmax()\n",
    "rdf['embarked'].fillna(most_freq, inplace=True)\n",
    "# 이 코드는 이해 못하겠다 그냥 외우자\n",
    "\n",
    "\n",
    "ndf = rdf[['survived','pclass','sex','age','sibsp','parch','embarked']]\n",
    "onehot_sex = pd.get_dummies(ndf['sex'])\n",
    "ndf = pd.concat([ndf, onehot_sex], axis=1)\n",
    "onehot_embarked = pd.get_dummies(ndf['embarked'], prefix='town')\n",
    "ndf = pd.concat([ndf, onehot_embarked], axis=1)\n",
    "# concat : 데이터를 연결하는 함수. axis 옵션이 주어지면 해당 인덱스에 맞게 옆으로 데이터를 붙일 수 있다\n",
    "# pd.get_dummies : 서로 무관한 수, 가변수로 더미를 채우는 함수 / prefix : 생성할 dummies_variable의 column 이름 앞에 붙을 prefix를 지정할 수 있습니다.\n",
    "\n",
    "\n",
    "ndf.drop(['sex','embarked'], axis=1, inplace=True)\n",
    "\n",
    "X = ndf[['pclass','age','sibsp','parch','female','male',\n",
    "         'town_C','town_Q','town_S']] # 독립 변수 X\n",
    "y = ndf[['survived']] # 종속 변수 y\n",
    "\n",
    "from sklearn import preprocessing\n",
    "X = preprocessing.StandardScaler().fit(X).transform(X)\n",
    "\n",
    "from sklearn.model_selection import train_test_split\n",
    "X_train, X_test, y_train, y_test = train_test_split(X,y,test_size=0.3, random_state=10)"
   ]
  },
  {
   "cell_type": "code",
   "execution_count": 4,
   "id": "aa4af282",
   "metadata": {},
   "outputs": [
    {
     "name": "stdout",
     "output_type": "stream",
     "text": [
      "[0 0 1 0 0 0 1 0 0 0]\n",
      "[[0]\n",
      " [0]\n",
      " [1]\n",
      " [0]\n",
      " [0]\n",
      " [1]\n",
      " [1]\n",
      " [1]\n",
      " [0]\n",
      " [0]]\n"
     ]
    },
    {
     "name": "stderr",
     "output_type": "stream",
     "text": [
      "/opt/anaconda3/lib/python3.8/site-packages/sklearn/utils/validation.py:63: DataConversionWarning: A column-vector y was passed when a 1d array was expected. Please change the shape of y to (n_samples, ), for example using ravel().\n",
      "  return f(*args, **kwargs)\n"
     ]
    }
   ],
   "source": [
    "from sklearn import svm\n",
    "\n",
    "# kernel 이란? 데이터를 벡터 공간으로 매핑하는 함수\n",
    "# rbf : radical basis function\n",
    "svm_model = svm.SVC(kernel='rbf')\n",
    "svm_model.fit(X_train, y_train)\n",
    "\n",
    "y_hat = svm_model.predict(X_test)\n",
    "\n",
    "print(y_hat[0:10])\n",
    "print(y_test.values[0:10])"
   ]
  },
  {
   "cell_type": "markdown",
   "id": "caeccb98",
   "metadata": {},
   "source": [
    "위의 결과를 보면 첫 10개 데이터 중에서 8개만 일치한다. 이제 모형의 예측 능력을 지표로 뽑아보자."
   ]
  },
  {
   "cell_type": "code",
   "execution_count": 14,
   "id": "d92de374",
   "metadata": {},
   "outputs": [
    {
     "name": "stdout",
     "output_type": "stream",
     "text": [
      "[['TP' 'FP']\n",
      " ['FN' 'TN']] \n",
      " =  [[120   5]\n",
      " [ 35  55]]\n"
     ]
    }
   ],
   "source": [
    "### True False 문제이기 때문에 분류문제는 confusion_matrix를 쓴다.\n",
    "from sklearn import metrics\n",
    "import numpy as np\n",
    "svm_matrix = metrics.confusion_matrix(y_test, y_hat)\n",
    "\n",
    "a = np.array([['TP', 'FP'], ['FN', 'TN']]) # 미생존자가 0(False), 생존자가 1(True)\n",
    "print(a,'\\n = ',svm_matrix)"
   ]
  },
  {
   "cell_type": "markdown",
   "id": "efebc166",
   "metadata": {},
   "source": [
    "총 215명의 승객 중  \n",
    "미생존자를 정확히 예측한 TP = 120명  \n",
    "미생존자를 생존자로 잘못 분류한 FP = 5명  \n",
    "생존자를 미생존자로 잘못 분류한 FN = 35명  \n",
    "생존자를 정확하게 예측한 TN = 55명  \n",
    "미생존자=0=False, 생존자=1=True"
   ]
  },
  {
   "cell_type": "code",
   "execution_count": 15,
   "id": "f7d7c704",
   "metadata": {},
   "outputs": [
    {
     "name": "stdout",
     "output_type": "stream",
     "text": [
      "              precision    recall  f1-score   support\n",
      "\n",
      "           0       0.77      0.96      0.86       125\n",
      "           1       0.92      0.61      0.73        90\n",
      "\n",
      "    accuracy                           0.81       215\n",
      "   macro avg       0.85      0.79      0.80       215\n",
      "weighted avg       0.83      0.81      0.81       215\n",
      "\n"
     ]
    }
   ],
   "source": [
    "svm_report = metrics.classification_report(y_test, y_hat)\n",
    "print(svm_report)"
   ]
  },
  {
   "cell_type": "markdown",
   "id": "479574ae",
   "metadata": {},
   "source": [
    "classification_report()함수로 출력된 precision, recall, f1-score 지표를 보자.  \n",
    "f1-score 지표를 보면 미생존자(0) 예측 정확도가 0.86이고,  \n",
    "생존자(1) 예측의 정확도는 0.73으로 예측 능력에 차이가 있다.  \n",
    "사실 KNN 모형과 예측 능력에는 큰 차이가 없다."
   ]
  },
  {
   "cell_type": "markdown",
   "id": "4e38d285",
   "metadata": {},
   "source": [
    "Q1. 그럼 왜 KNN 대신 SVM을 쓰는거지?"
   ]
  },
  {
   "cell_type": "code",
   "execution_count": null,
   "id": "0052e2de",
   "metadata": {},
   "outputs": [],
   "source": []
  }
 ],
 "metadata": {
  "kernelspec": {
   "display_name": "Python 3",
   "language": "python",
   "name": "python3"
  },
  "language_info": {
   "codemirror_mode": {
    "name": "ipython",
    "version": 3
   },
   "file_extension": ".py",
   "mimetype": "text/x-python",
   "name": "python",
   "nbconvert_exporter": "python",
   "pygments_lexer": "ipython3",
   "version": "3.8.8"
  }
 },
 "nbformat": 4,
 "nbformat_minor": 5
}
