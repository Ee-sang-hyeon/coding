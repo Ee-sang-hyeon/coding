{
 "cells": [
  {
   "cell_type": "markdown",
   "id": "9dd67bc8",
   "metadata": {},
   "source": [
    "# 4. 다중회귀분석 (Multivariate Regression)\n",
    "여러 개의 독립 변수가 종속 변수에 영향을 주고 선형 관계를 갖는 경우를 다중회귀분석이라 한다. 앞선 것과 동일한 코드를 우선 작성해보자."
   ]
  },
  {
   "cell_type": "code",
   "execution_count": 3,
   "id": "2ed66065",
   "metadata": {},
   "outputs": [
    {
     "data": {
      "text/html": [
       "<div>\n",
       "<style scoped>\n",
       "    .dataframe tbody tr th:only-of-type {\n",
       "        vertical-align: middle;\n",
       "    }\n",
       "\n",
       "    .dataframe tbody tr th {\n",
       "        vertical-align: top;\n",
       "    }\n",
       "\n",
       "    .dataframe thead th {\n",
       "        text-align: right;\n",
       "    }\n",
       "</style>\n",
       "<table border=\"1\" class=\"dataframe\">\n",
       "  <thead>\n",
       "    <tr style=\"text-align: right;\">\n",
       "      <th></th>\n",
       "      <th>mpg</th>\n",
       "      <th>cylinders</th>\n",
       "      <th>horsepower</th>\n",
       "      <th>weight</th>\n",
       "    </tr>\n",
       "  </thead>\n",
       "  <tbody>\n",
       "    <tr>\n",
       "      <th>0</th>\n",
       "      <td>18.0</td>\n",
       "      <td>8</td>\n",
       "      <td>130.0</td>\n",
       "      <td>3504.0</td>\n",
       "    </tr>\n",
       "    <tr>\n",
       "      <th>1</th>\n",
       "      <td>15.0</td>\n",
       "      <td>8</td>\n",
       "      <td>165.0</td>\n",
       "      <td>3693.0</td>\n",
       "    </tr>\n",
       "    <tr>\n",
       "      <th>2</th>\n",
       "      <td>18.0</td>\n",
       "      <td>8</td>\n",
       "      <td>150.0</td>\n",
       "      <td>3436.0</td>\n",
       "    </tr>\n",
       "    <tr>\n",
       "      <th>3</th>\n",
       "      <td>16.0</td>\n",
       "      <td>8</td>\n",
       "      <td>150.0</td>\n",
       "      <td>3433.0</td>\n",
       "    </tr>\n",
       "    <tr>\n",
       "      <th>4</th>\n",
       "      <td>17.0</td>\n",
       "      <td>8</td>\n",
       "      <td>140.0</td>\n",
       "      <td>3449.0</td>\n",
       "    </tr>\n",
       "    <tr>\n",
       "      <th>...</th>\n",
       "      <td>...</td>\n",
       "      <td>...</td>\n",
       "      <td>...</td>\n",
       "      <td>...</td>\n",
       "    </tr>\n",
       "    <tr>\n",
       "      <th>393</th>\n",
       "      <td>27.0</td>\n",
       "      <td>4</td>\n",
       "      <td>86.00</td>\n",
       "      <td>2790.0</td>\n",
       "    </tr>\n",
       "    <tr>\n",
       "      <th>394</th>\n",
       "      <td>44.0</td>\n",
       "      <td>4</td>\n",
       "      <td>52.00</td>\n",
       "      <td>2130.0</td>\n",
       "    </tr>\n",
       "    <tr>\n",
       "      <th>395</th>\n",
       "      <td>32.0</td>\n",
       "      <td>4</td>\n",
       "      <td>84.00</td>\n",
       "      <td>2295.0</td>\n",
       "    </tr>\n",
       "    <tr>\n",
       "      <th>396</th>\n",
       "      <td>28.0</td>\n",
       "      <td>4</td>\n",
       "      <td>79.00</td>\n",
       "      <td>2625.0</td>\n",
       "    </tr>\n",
       "    <tr>\n",
       "      <th>397</th>\n",
       "      <td>31.0</td>\n",
       "      <td>4</td>\n",
       "      <td>82.00</td>\n",
       "      <td>2720.0</td>\n",
       "    </tr>\n",
       "  </tbody>\n",
       "</table>\n",
       "<p>392 rows × 4 columns</p>\n",
       "</div>"
      ],
      "text/plain": [
       "      mpg  cylinders horsepower  weight\n",
       "0    18.0          8      130.0  3504.0\n",
       "1    15.0          8      165.0  3693.0\n",
       "2    18.0          8      150.0  3436.0\n",
       "3    16.0          8      150.0  3433.0\n",
       "4    17.0          8      140.0  3449.0\n",
       "..    ...        ...        ...     ...\n",
       "393  27.0          4      86.00  2790.0\n",
       "394  44.0          4      52.00  2130.0\n",
       "395  32.0          4      84.00  2295.0\n",
       "396  28.0          4      79.00  2625.0\n",
       "397  31.0          4      82.00  2720.0\n",
       "\n",
       "[392 rows x 4 columns]"
      ]
     },
     "execution_count": 3,
     "metadata": {},
     "output_type": "execute_result"
    }
   ],
   "source": [
    "import pandas as pd # 데이터 처리에 필요한 라이브러리\n",
    "import numpy as np # 행렬, 수학적 연산 모음 라이브러리\n",
    "import matplotlib.pyplot as plt # 메트랩의 그래프 그리는 것을 가져오는 라이브러리\n",
    "import seaborn as sns # 뭔지 모름, 근데 그래프 그리는 더 나은 방법인거 같음\n",
    "\n",
    "df = pd.read_csv('./auto-mpg.csv', header=None)\n",
    "\n",
    "df.columns = ['mpg','cylinders','displacement','horsepower','weight'\n",
    "             ,'acceleration','model year','origin','name']\n",
    "\n",
    "df['horsepower'].replace('?',np.nan, inplace=True)\n",
    "df.dropna(subset=['horsepower'], axis=0, inplace=True)\n",
    "df['horespower'] = df['horsepower'].astype('float') # horsepower의 데이터 타입을 float으로 바꿈\n",
    "\n",
    "ndf = df[['mpg','cylinders','horsepower','weight']] # 네개의 columns를 뽑하서 새로운 ndf를 만듦\n",
    "ndf"
   ]
  },
  {
   "cell_type": "markdown",
   "id": "ecab190c",
   "metadata": {},
   "source": [
    "아래와 같이 X값에는 독립변수 3개를 넣고 data를 구분해 주자."
   ]
  },
  {
   "cell_type": "code",
   "execution_count": 4,
   "id": "27cf8db2",
   "metadata": {},
   "outputs": [
    {
     "name": "stdout",
     "output_type": "stream",
     "text": [
      "훈련 데이터:  (274, 3)\n",
      "검증 데이터:  (118, 3)\n"
     ]
    }
   ],
   "source": [
    "X=ndf[['cylinders','horsepower','weight']] # 독립변수\n",
    "y=ndf[['mpg']] # 종속 변수\n",
    "\n",
    "from sklearn.model_selection import train_test_split\n",
    "X_train, X_test, y_train, y_test = train_test_split(X, y, test_size=0.3, random_state=10)\n",
    "# train_test_split 함수를 사용하면 자동으로 train과 test를 나눠준다.\n",
    "\n",
    "print('훈련 데이터: ', X_train.shape)\n",
    "print('검증 데이터: ', X_test.shape)"
   ]
  },
  {
   "cell_type": "markdown",
   "id": "190e939e",
   "metadata": {},
   "source": [
    "이 후에는 LinearRegression() 함수를 사용하여 회귀분석 모형 객체를 생성하고 앞에서 진행한 부분과 동일하게 진행한다."
   ]
  },
  {
   "cell_type": "code",
   "execution_count": 6,
   "id": "4b2ea9d9",
   "metadata": {},
   "outputs": [
    {
     "name": "stdout",
     "output_type": "stream",
     "text": [
      "0.6939048496695597\n"
     ]
    }
   ],
   "source": [
    "from sklearn.linear_model import LinearRegression # 선형 회귀분석 모듈\n",
    "lr = LinearRegression() # 단순 선형 회귀분석\n",
    "lr.fit(X_train, y_train) # train data를 fit 함수를 이용해서 학습한다.\n",
    "\n",
    "r_square = lr.score(X_test, y_test)\n",
    "print(r_square) # 결정 계수"
   ]
  },
  {
   "cell_type": "code",
   "execution_count": 7,
   "id": "77385c64",
   "metadata": {},
   "outputs": [
    {
     "name": "stdout",
     "output_type": "stream",
     "text": [
      "X 변수의 계수 a:  [[-0.60691288 -0.03714088 -0.00522268]]\n"
     ]
    }
   ],
   "source": [
    "print('X 변수의 계수 a: ', lr.coef_) # x변수의 계수를 불러오는 함수"
   ]
  },
  {
   "cell_type": "code",
   "execution_count": 8,
   "id": "549a840e",
   "metadata": {},
   "outputs": [
    {
     "name": "stdout",
     "output_type": "stream",
     "text": [
      "상수항 b [46.41435127]\n"
     ]
    }
   ],
   "source": [
    "print('상수항 b', lr.intercept_)"
   ]
  },
  {
   "cell_type": "code",
   "execution_count": 12,
   "id": "c341d2d6",
   "metadata": {},
   "outputs": [
    {
     "name": "stderr",
     "output_type": "stream",
     "text": [
      "/opt/anaconda3/lib/python3.8/site-packages/seaborn/distributions.py:2557: FutureWarning: `distplot` is a deprecated function and will be removed in a future version. Please adapt your code to use either `displot` (a figure-level function with similar flexibility) or `kdeplot` (an axes-level function for kernel density plots).\n",
      "  warnings.warn(msg, FutureWarning)\n",
      "/opt/anaconda3/lib/python3.8/site-packages/seaborn/distributions.py:2557: FutureWarning: `distplot` is a deprecated function and will be removed in a future version. Please adapt your code to use either `displot` (a figure-level function with similar flexibility) or `kdeplot` (an axes-level function for kernel density plots).\n",
      "  warnings.warn(msg, FutureWarning)\n"
     ]
    },
    {
     "data": {
      "image/png": "[encoded data removed]",
      "text/plain": [
       "<Figure size 720x360 with 1 Axes>"
      ]
     },
     "metadata": {
      "needs_background": "light"
     },
     "output_type": "display_data"
    },
    {
     "data": {
      "text/plain": [
       "<Figure size 432x288 with 0 Axes>"
      ]
     },
     "metadata": {},
     "output_type": "display_data"
    }
   ],
   "source": [
    "y_hat = lr.predict(X_test)\n",
    "plt.figure(figsize=(10,5))\n",
    "ax1 = sns.distplot(y_test, hist=False, label=\"y_test\")\n",
    "ax2 = sns.distplot(y_hat, hist=False, label=\"y_hat\", ax=ax1)\n",
    "plt.show()\n",
    "plt.savefig('dotplot.png')"
   ]
  },
  {
   "cell_type": "markdown",
   "id": "f9acddeb",
   "metadata": {},
   "source": [
    "그래프를 보면 한쪽으로 편향되는 경향은 그대로 남아 있지만 그래프의 첨도(뾰족한 정도)가 약간 누그러진 것을 볼 수 있다."
   ]
  },
  {
   "cell_type": "markdown",
   "id": "afd4a5cd",
   "metadata": {},
   "source": [
    "왜 인지 모르겠지만 그래프가 저장이 안된다. 아마 계속 warning 뜨는 distplot 때문인것도 같은데  \n",
    "일단 원본 그래프는  \n",
    "02.Simple Linear Regression 에서 맨 마지막에 있다.  \n",
    "위의 설명처럼 편향되는 것은 똑같으나 첨도가 다르게 나타난다."
   ]
  },
  {
   "cell_type": "code",
   "execution_count": null,
   "id": "be00a4c0",
   "metadata": {},
   "outputs": [],
   "source": []
  }
 ],
 "metadata": {
  "kernelspec": {
   "display_name": "Python 3",
   "language": "python",
   "name": "python3"
  },
  "language_info": {
   "codemirror_mode": {
    "name": "ipython",
    "version": 3
   },
   "file_extension": ".py",
   "mimetype": "text/x-python",
   "name": "python",
   "nbconvert_exporter": "python",
   "pygments_lexer": "ipython3",
   "version": "3.8.8"
  }
 },
 "nbformat": 4,
 "nbformat_minor": 5
}
